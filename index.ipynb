{
 "cells": [
  {
   "cell_type": "markdown",
   "metadata": {},
   "source": [
    "# Building a CNN from Scratch - Lab\n",
    "\n",
    "## Introduction\n",
    "\n",
    "Now that you have background knowledge regarding how CNNs work and how to build them using Keras, its time to practice those skills a little more independently in order to build a CNN on your own to solve a image recognition problem. In this lab, you'll practice building an image classifier from start to finish using a CNN.  \n",
    "\n",
    "## Objectives\n",
    "\n",
    "In this lab you will: \n",
    "\n",
    "- Load images from a hierarchical file structure using an image datagenerator \n",
    "- Apply data augmentation to image files before training a neural network \n",
    "- Build a CNN using Keras \n",
    "- Visualize and evaluate the performance of CNN models \n",
    "\n",
    "## Loading the Images\n",
    "\n",
    "The data for this lab are a bunch of pictures of cats and dogs, and our task is to correctly classify a picture as one or the other. The [original dataset](https://www.kaggle.com/c/dogs-vs-cats) is from Kaggle. We have downsampled this dataset in order to reduce training time for you when you design and fit your model to the data. ⏰ It is anticipated that this process will take approximately one hour to run on a standard machine, although times will vary depending on your particular computer and set up. At the end of this lab, you are welcome to try training on the complete dataset and observe the impact on the model's overall accuracy. \n",
    "\n",
    "You can find the initial downsampled dataset in a subdirectory, **cats_dogs_downsampled**, of this repository. "
   ]
  },
  {
   "cell_type": "code",
   "execution_count": 1,
   "metadata": {},
   "outputs": [],
   "source": [
    "# Load the images; be sure to also preprocess these into tensors \n",
    "\n",
    "train_dir = 'cats_dogs_downsampled/train'\n",
    "validation_dir = 'cats_dogs_downsampled/val/'\n",
    "test_dir = 'cats_dogs_downsampled/test/' "
   ]
  },
  {
   "cell_type": "code",
   "execution_count": 3,
   "metadata": {},
   "outputs": [],
   "source": [
    "from keras.preprocessing.image import ImageDataGenerator\n",
    "import datetime\n",
    "original_start = datetime.datetime.now()\n",
    "start = datetime.datetime.now()"
   ]
  },
  {
   "cell_type": "code",
   "execution_count": 10,
   "metadata": {},
   "outputs": [
    {
     "name": "stdout",
     "output_type": "stream",
     "text": [
      "Found 2140 images belonging to 2 classes.\n",
      "Found 420 images belonging to 2 classes.\n"
     ]
    }
   ],
   "source": [
    "train_datagen = ImageDataGenerator(rescale=1/255)\n",
    "val_datagen = ImageDataGenerator(rescale=1/255)\n",
    "\n",
    "train_generator = train_datagen.flow_from_directory(train_dir, target_size=(150, 150), \n",
    "                                                    batch_size=20, class_mode='binary')\n",
    "validation_generator = val_datagen.flow_from_directory(validation_dir, target_size=(150, 150), \n",
    "                                                      batch_size=20, class_mode='binary')"
   ]
  },
  {
   "cell_type": "markdown",
   "metadata": {},
   "source": [
    "## Designing the Model\n",
    "\n",
    "Now it's time to design your CNN using Keras! Remember a few things when doing this: \n",
    "\n",
    "- You should alternate convolutional and pooling layers\n",
    "- You should have later layers have a larger number of parameters in order to detect more abstract patterns\n",
    "- Add some final dense layers to add a classifier to the convolutional base \n",
    "- Compile this model "
   ]
  },
  {
   "cell_type": "code",
   "execution_count": 11,
   "metadata": {},
   "outputs": [],
   "source": [
    "# Your code here; design and compile the model\n",
    "from keras import layers\n",
    "from keras import models\n",
    "\n",
    "model = models.Sequential()\n",
    "model.add(layers.Conv2D(32, (3, 3), activation='relu', input_shape=(150, 150, 3)))\n",
    "model.add(layers.MaxPooling2D((2, 2)))\n",
    "model.add(layers.Conv2D(64, (3, 3), activation='relu'))\n",
    "model.add(layers.MaxPooling2D((2, 2)))\n",
    "model.add(layers.Conv2D(128, (3, 3), activation='relu'))\n",
    "model.add(layers.MaxPooling2D((2, 2)))\n",
    "model.add(layers.Conv2D(128, (3, 3), activation='relu'))\n",
    "model.add(layers.MaxPooling2D((2, 2)))\n",
    "model.add(layers.Flatten())\n",
    "model.add(layers.Dense(512, activation='relu'))\n",
    "model.add(layers.Dense(1, activation='sigmoid'))"
   ]
  },
  {
   "cell_type": "code",
   "execution_count": 12,
   "metadata": {},
   "outputs": [],
   "source": [
    "from keras import optimizers\n",
    "model.compile(loss='binary_crossentropy', optimizer=optimizers.RMSprop(lr=1e-4), metrics=['acc'])"
   ]
  },
  {
   "cell_type": "markdown",
   "metadata": {},
   "source": [
    "## Training and Evaluating the Model\n",
    "\n",
    "Remember that training deep networks is resource intensive: depending on the size of the data, even a CNN with 3-4 successive convolutional and pooling layers is apt to take a hours to train on a high end laptop. Using 30 epochs and 8 layers (alternating between convolutional and pooling), our model took about 40 minutes to run on a year old macbook pro.\n",
    "\n",
    "\n",
    "If you are concerned with runtime, you may want to set your model to run the training epochs overnight.  \n",
    "\n",
    "**If you are going to run this process overnight, be sure to also script code for the following questions concerning data augmentation. Check your code twice (or more) and then set the notebook to run all, or something equivalent to have them train overnight.** "
   ]
  },
  {
   "cell_type": "code",
   "execution_count": 13,
   "metadata": {},
   "outputs": [
    {
     "name": "stdout",
     "output_type": "stream",
     "text": [
      "Epoch 1/30\n",
      "100/100 [==============================] - 68s 683ms/step - loss: 0.6894 - acc: 0.5335 - val_loss: 0.6772 - val_acc: 0.5725\n",
      "Epoch 2/30\n",
      "100/100 [==============================] - 65s 650ms/step - loss: 0.6569 - acc: 0.6075 - val_loss: 0.6762 - val_acc: 0.5650\n",
      "Epoch 3/30\n",
      "100/100 [==============================] - 63s 633ms/step - loss: 0.6252 - acc: 0.6580 - val_loss: 0.6223 - val_acc: 0.6350\n",
      "Epoch 4/30\n",
      "100/100 [==============================] - 63s 634ms/step - loss: 0.5832 - acc: 0.6875 - val_loss: 0.5959 - val_acc: 0.7125\n",
      "Epoch 5/30\n",
      "100/100 [==============================] - 64s 636ms/step - loss: 0.5672 - acc: 0.6985 - val_loss: 0.5915 - val_acc: 0.6650\n",
      "Epoch 6/30\n",
      "100/100 [==============================] - 71s 712ms/step - loss: 0.5063 - acc: 0.7405 - val_loss: 0.5124 - val_acc: 0.7350\n",
      "Epoch 7/30\n",
      "100/100 [==============================] - 85s 851ms/step - loss: 0.4745 - acc: 0.7775 - val_loss: 0.5480 - val_acc: 0.7025\n",
      "Epoch 8/30\n",
      "100/100 [==============================] - 76s 758ms/step - loss: 0.4746 - acc: 0.7785 - val_loss: 0.4840 - val_acc: 0.7675\n",
      "Epoch 9/30\n",
      "100/100 [==============================] - 81s 810ms/step - loss: 0.4323 - acc: 0.7985 - val_loss: 0.5109 - val_acc: 0.7450\n",
      "Epoch 10/30\n",
      "100/100 [==============================] - 67s 674ms/step - loss: 0.4201 - acc: 0.8095 - val_loss: 0.5068 - val_acc: 0.7525\n",
      "Epoch 11/30\n",
      "100/100 [==============================] - 64s 636ms/step - loss: 0.3824 - acc: 0.8285 - val_loss: 0.5345 - val_acc: 0.7550\n",
      "Epoch 12/30\n",
      "100/100 [==============================] - 63s 632ms/step - loss: 0.3608 - acc: 0.8405 - val_loss: 0.4993 - val_acc: 0.7500\n",
      "Epoch 13/30\n",
      "100/100 [==============================] - 64s 643ms/step - loss: 0.3394 - acc: 0.8485 - val_loss: 0.5842 - val_acc: 0.7125\n",
      "Epoch 14/30\n",
      "100/100 [==============================] - 64s 643ms/step - loss: 0.3322 - acc: 0.8570 - val_loss: 0.5457 - val_acc: 0.7475\n",
      "Epoch 15/30\n",
      "100/100 [==============================] - 66s 664ms/step - loss: 0.2940 - acc: 0.8745 - val_loss: 0.4968 - val_acc: 0.7500\n",
      "Epoch 16/30\n",
      "100/100 [==============================] - 66s 658ms/step - loss: 0.2736 - acc: 0.8860 - val_loss: 0.5466 - val_acc: 0.7500\n",
      "Epoch 17/30\n",
      "100/100 [==============================] - 72s 722ms/step - loss: 0.2520 - acc: 0.9035 - val_loss: 0.5494 - val_acc: 0.7425\n",
      "Epoch 18/30\n",
      "100/100 [==============================] - 81s 814ms/step - loss: 0.2350 - acc: 0.9085 - val_loss: 0.5352 - val_acc: 0.7725\n",
      "Epoch 19/30\n",
      "100/100 [==============================] - 76s 759ms/step - loss: 0.2077 - acc: 0.9170 - val_loss: 0.6258 - val_acc: 0.7450\n",
      "Epoch 20/30\n",
      "100/100 [==============================] - 64s 641ms/step - loss: 0.1942 - acc: 0.9235 - val_loss: 0.6461 - val_acc: 0.7375\n",
      "Epoch 21/30\n",
      "100/100 [==============================] - 64s 641ms/step - loss: 0.1717 - acc: 0.9395 - val_loss: 0.6493 - val_acc: 0.7425\n",
      "Epoch 22/30\n",
      "100/100 [==============================] - 64s 645ms/step - loss: 0.1534 - acc: 0.9440 - val_loss: 0.6938 - val_acc: 0.7325\n",
      "Epoch 23/30\n",
      "100/100 [==============================] - 70s 701ms/step - loss: 0.1298 - acc: 0.9530 - val_loss: 0.7106 - val_acc: 0.7300\n",
      "Epoch 24/30\n",
      "100/100 [==============================] - 63s 634ms/step - loss: 0.1125 - acc: 0.9700 - val_loss: 0.7695 - val_acc: 0.7175\n",
      "Epoch 25/30\n",
      "100/100 [==============================] - 65s 647ms/step - loss: 0.1060 - acc: 0.9640 - val_loss: 0.8187 - val_acc: 0.7275\n",
      "Epoch 26/30\n",
      "100/100 [==============================] - 66s 662ms/step - loss: 0.0906 - acc: 0.9705 - val_loss: 0.7617 - val_acc: 0.7425\n",
      "Epoch 27/30\n",
      "100/100 [==============================] - 66s 656ms/step - loss: 0.0829 - acc: 0.9755 - val_loss: 0.8252 - val_acc: 0.7425\n",
      "Epoch 28/30\n",
      "100/100 [==============================] - 64s 638ms/step - loss: 0.0665 - acc: 0.9790 - val_loss: 0.9053 - val_acc: 0.7325\n",
      "Epoch 29/30\n",
      "100/100 [==============================] - 63s 635ms/step - loss: 0.0559 - acc: 0.9830 - val_loss: 0.9492 - val_acc: 0.7400\n",
      "Epoch 30/30\n",
      "100/100 [==============================] - 64s 643ms/step - loss: 0.0492 - acc: 0.9860 - val_loss: 0.8631 - val_acc: 0.7350\n"
     ]
    }
   ],
   "source": [
    "# Set the model to train \n",
    "# ⏰ This cell may take several minutes to run \n",
    "history = model.fit_generator(train_generator, steps_per_epoch=100, epochs=30, validation_data=validation_generator, \n",
    "                   validation_steps=20)"
   ]
  },
  {
   "cell_type": "code",
   "execution_count": 14,
   "metadata": {},
   "outputs": [
    {
     "data": {
      "image/png": "[encoded data removed]",
      "text/plain": [
       "<Figure size 432x288 with 1 Axes>"
      ]
     },
     "metadata": {
      "needs_background": "light"
     },
     "output_type": "display_data"
    },
    {
     "data": {
      "image/png": "[encoded data removed]",
      "text/plain": [
       "<Figure size 432x288 with 1 Axes>"
      ]
     },
     "metadata": {
      "needs_background": "light"
     },
     "output_type": "display_data"
    }
   ],
   "source": [
    "# Plot history\n",
    "import matplotlib.pyplot as plt\n",
    "%matplotlib inline\n",
    "\n",
    "acc = history.history['acc']\n",
    "val_acc = history.history['val_acc']\n",
    "loss = history.history['loss']\n",
    "val_loss = history.history['val_loss']\n",
    "epochs = range(len(acc))\n",
    "plt.plot(epochs, acc, 'bo', label='Training acc')\n",
    "plt.plot(epochs, val_acc, 'b', label='Validation acc')\n",
    "plt.title('Training and Validation Accuracy')\n",
    "plt.legend()\n",
    "plt.figure()\n",
    "plt.plot(epochs, loss, 'bo', label='Training loss')\n",
    "plt.plot(epochs, val_loss, 'b', label='Validation loss')\n",
    "plt.title('Training and Validation Loss')\n",
    "plt.legend()\n",
    "plt.show()"
   ]
  },
  {
   "cell_type": "markdown",
   "metadata": {},
   "source": [
    "## Save the Model"
   ]
  },
  {
   "cell_type": "code",
   "execution_count": 15,
   "metadata": {},
   "outputs": [
    {
     "name": "stdout",
     "output_type": "stream",
     "text": [
      "Training with data augmentation took a total of 1:46:28.944945\n"
     ]
    }
   ],
   "source": [
    "end = datetime.datetime.now()\n",
    "elapsed = end - start\n",
    "print('Training with data augmentation took a total of {}'.format(elapsed))"
   ]
  },
  {
   "cell_type": "code",
   "execution_count": 17,
   "metadata": {},
   "outputs": [],
   "source": [
    "# Your code here; save the model for future reference\n",
    "model.save('cats_dogs_downsampled_data.h5')"
   ]
  },
  {
   "cell_type": "markdown",
   "metadata": {},
   "source": [
    "## Data Augmentation\n",
    "\n",
    "Recall that data augmentation is typically always a necessary step when using a small dataset as this one which you have been provided. As such, if you haven't already, implement a data augmentation setup.\n",
    "\n",
    "**Warning: ⏰ This process took nearly 4 hours to run on a relatively new macbook pro. As such, it is recommended that you simply code the setup and compare to the solution branch, or set the process to run overnight if you do choose to actually run the code.** "
   ]
  },
  {
   "cell_type": "code",
   "execution_count": 14,
   "metadata": {},
   "outputs": [],
   "source": [
    "# Add data augmentation to the model setup and set the model to train; \n",
    "# See warnings above if you intend to run this block of code \n",
    "# ⏰ This cell may take several hours to run \n",
    "#train_datagen = ImageDataGenerator(rescale=1/255, rotation_range=40, width_shift_range=0.2, \n",
    "#                                  height_shift_range=0.2, shear_range=0.2, zoom_range=0.2, \n",
    "#                                  horizontal_flip=True, fill_mode='nearest')\n",
    "#train_generator = train_datagen.flow_from_directory(train_dir, target_size=(150, 150), \n",
    "#                                                    batch_size=20, class_mode='binary')\n",
    "#history = model.fit_generator(train_generator, steps_per_epoch=100, epochs=30, validation_data=validation_generator, \n",
    "#                   validation_steps=20)"
   ]
  },
  {
   "cell_type": "markdown",
   "metadata": {},
   "source": [
    "Save the model for future reference.  "
   ]
  },
  {
   "cell_type": "code",
   "execution_count": 19,
   "metadata": {},
   "outputs": [],
   "source": [
    "# Save the model \n",
    "#model.save('cats_dogs_downsampled_with_augmentation_data.h5')"
   ]
  },
  {
   "cell_type": "markdown",
   "metadata": {},
   "source": [
    "## Final Evaluation\n",
    "\n",
    "Now use the test set to perform a final evaluation on your model of choice. "
   ]
  },
  {
   "cell_type": "code",
   "execution_count": 20,
   "metadata": {},
   "outputs": [
    {
     "name": "stdout",
     "output_type": "stream",
     "text": [
      "Found 425 images belonging to 2 classes.\n",
      "test acc: 0.7525000005960465\n"
     ]
    }
   ],
   "source": [
    "# Your code here \n",
    "# Perform a final evaluation using the test set\n",
    "test_datagen = ImageDataGenerator(rescale=1./255)\n",
    "\n",
    "test_generator = test_datagen.flow_from_directory(test_dir, \n",
    "                                                  target_size=(150, 150), \n",
    "                                                  batch_size=20, \n",
    "                                                  class_mode='binary')\n",
    "test_loss, test_acc = model.evaluate_generator(test_generator, steps=20)\n",
    "print('test acc:', test_acc)"
   ]
  },
  {
   "cell_type": "markdown",
   "metadata": {},
   "source": [
    "## Summary\n",
    "\n",
    "Well done! In this lab, you practice building your own CNN for image recognition which drastically outperformed our previous attempts using a standard deep learning model alone. In the upcoming sections, we'll continue to investigate further techniques associated with CNNs including visualizing the representations they learn and techniques to further bolster their performance when we have limited training data such as here."
   ]
  }
 ],
 "metadata": {
  "kernelspec": {
   "display_name": "Python 3",
   "language": "python",
   "name": "python3"
  },
  "language_info": {
   "codemirror_mode": {
    "name": "ipython",
    "version": 3
   },
   "file_extension": ".py",
   "mimetype": "text/x-python",
   "name": "python",
   "nbconvert_exporter": "python",
   "pygments_lexer": "ipython3",
   "version": "3.6.9"
  },
  "toc": {
   "base_numbering": 1,
   "nav_menu": {},
   "number_sections": true,
   "sideBar": true,
   "skip_h1_title": false,
   "title_cell": "Table of Contents",
   "title_sidebar": "Contents",
   "toc_cell": false,
   "toc_position": {},
   "toc_section_display": true,
   "toc_window_display": false
  }
 },
 "nbformat": 4,
 "nbformat_minor": 2
}
